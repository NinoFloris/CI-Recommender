{
 "metadata": {
  "name": "Collective Intelligence"
 },
 "nbformat": 3,
 "nbformat_minor": 0,
 "worksheets": [
  {
   "cells": [
    {
     "cell_type": "heading",
     "level": 1,
     "metadata": {},
     "source": "Group #2 - Project"
    },
    {
     "cell_type": "heading",
     "level": 2,
     "metadata": {},
     "source": "First Assignment"
    },
    {
     "cell_type": "heading",
     "level": 3,
     "metadata": {},
     "source": "Recommender"
    },
    {
     "cell_type": "raw",
     "metadata": {},
     "source": "In this part, we'll see how have we build the recommender."
    },
    {
     "cell_type": "code",
     "collapsed": false,
     "input": "import cPickle, bz2\n\nfrom collections import namedtuple, defaultdict\nfrom itertools import groupby\n\n\ndatasets_folder = 'datasets/'\n\nsummaries_file = datasets_folder + 'summaries.pkl.bz2'\nids_file = datasets_folder + 'ids.pkl.bz2'\ncitations_file = datasets_folder + 'citations.pkl.bz2'\n\nSummaries = cPickle.load( bz2.BZ2File( summaries_file, 'rb' ) )\n\npaper = namedtuple( 'paper', ['title', 'authors', 'year', 'doi'] )\n\nprint 'Loading data...\\n'\n\nfor (id, paper_info) in Summaries.iteritems():\n    Summaries[id] = paper( *paper_info )\n\nauthor_name = raw_input(\"Enter author: \")\n\nauthorScores = defaultdict(int)\n\nfor(item) in Summaries:\n    if author_name in Summaries[item].authors:\n        print Summaries[item]\n        print Summaries[item].authors.index(author_name)\n        print '\\n'\n        for author in Summaries[item].authors:\n            authorScores[author] += 1\nfor item in sorted(authorScores):\n    print item\n    print authorScores[item]",
     "language": "python",
     "metadata": {},
     "outputs": []
    },
    {
     "cell_type": "heading",
     "level": 3,
     "metadata": {},
     "source": "Distance function"
    },
    {
     "cell_type": "code",
     "collapsed": false,
     "input": "???",
     "language": "python",
     "metadata": {},
     "outputs": []
    },
    {
     "cell_type": "heading",
     "level": 2,
     "metadata": {},
     "source": "Second Assignment"
    },
    {
     "cell_type": "heading",
     "level": 3,
     "metadata": {},
     "source": "Clustering Algorithm"
    },
    {
     "cell_type": "raw",
     "metadata": {},
     "source": "This algorithm show how do we've adapt the k-means clustering algorithm to our documents.\nFirst, this function takes as parameters :"
    },
    {
     "cell_type": "code",
     "collapsed": false,
     "input": "def cluster(numOfClusters, set, distFunction):\n    ",
     "language": "python",
     "metadata": {},
     "outputs": []
    },
    {
     "cell_type": "raw",
     "metadata": {},
     "source": "The set is the set from which we'll do some clusters, based on a distance function.\nIt also needs to know how much clusters do we want at the end.\n\nWe can see beneath how the initialization part is implemented :"
    },
    {
     "cell_type": "code",
     "collapsed": false,
     "input": "centroids = createFirstCentroids(set, numOfClusters)\nclusterArray = []\nnumberOfChanges = 10\nnumberOfRounds = 0",
     "language": "python",
     "metadata": {},
     "outputs": []
    },
    {
     "cell_type": "raw",
     "metadata": {},
     "source": "centroids will contain the centroids points. Those points are elements of the set. createFirstCentroids choose randomly an element from the set and put it back in an array and do this as much as the number of clusters we want (numOfCluster).\nclusterArray will be an array as big as \"set\", for each element, its cluster id is stored in this array.\nnumberOfChanges & numberOfRounds are here to stop the algorithm when it will has converged, or when we'll be bored (see the while condition beneath)."
    },
    {
     "cell_type": "code",
     "collapsed": false,
     "input": "while(numberOfChanges>2 and numberOfRounds<150):",
     "language": "python",
     "metadata": {},
     "outputs": []
    },
    {
     "cell_type": "raw",
     "metadata": {},
     "source": "Then, for each element from the set, we'll try to find its closer cluster, using the distance function.\nWhen this is done, the algorithm call a function to designate the next centroid for each cluster.\nThis function prototype  is :"
    },
    {
     "cell_type": "code",
     "collapsed": false,
     "input": "def updatecentroids(set, clusterArray, distFunction, numOfClusters):",
     "language": "python",
     "metadata": {},
     "outputs": []
    },
    {
     "cell_type": "raw",
     "metadata": {},
     "source": "It needs the clusterArray to know the elements of one cluster.\nThen the set and the distance function are here to help us in finding the next centroid for each cluster.\nThe number of cluster is here to make the algorithm more easy to implement, we could have used clusterArray to get back the number of cluster, but it is more readable like this."
    }
   ],
   "metadata": {}
  }
 ]
}